{
 "cells": [
  {
   "cell_type": "code",
   "execution_count": 1,
   "metadata": {
    "executionInfo": {
     "elapsed": 1000,
     "status": "ok",
     "timestamp": 1604314258241,
     "user": {
      "displayName": "viswanath iiitb",
      "photoUrl": "",
      "userId": "05385138413223991502"
     },
     "user_tz": -330
    },
    "id": "JFXJIGgtKifk"
   },
   "outputs": [],
   "source": [
    "import os\n",
    "import random"
   ]
  },
  {
   "cell_type": "code",
   "execution_count": 2,
   "metadata": {
    "executionInfo": {
     "elapsed": 1189,
     "status": "ok",
     "timestamp": 1604314263875,
     "user": {
      "displayName": "viswanath iiitb",
      "photoUrl": "",
      "userId": "05385138413223991502"
     },
     "user_tz": -330
    },
    "id": "lBAX4CTgKifo"
   },
   "outputs": [],
   "source": [
    "def generate_dataset(r, c, seed = 42, sample = 0):\n",
    "    '''\n",
    "    Parameters\n",
    "    ----------\n",
    "    A : array-like, shape=[r, c]\n",
    "    b : array-like, shape=[r]\n",
    "    ''' \n",
    "    if sample == 1:\n",
    "        # sample test-case\n",
    "        A = [[1. , 1.],\n",
    "             [1. , 1.],\n",
    "             [1. , 0.]]\n",
    "        b =  [1, 2, 3]\n",
    "        \"\"\"\n",
    "        Q = [[0.5773502691896258, 0.4082482904638628], \n",
    "             [0.5773502691896258, 0.4082482904638628], \n",
    "             [0.5773502691896258, -0.8164965809277263]]\n",
    "        R = [[1.7320508075688776, 1.1547005383792517],\n",
    "             [-6.661338147750939e-16, 0.8164965809277256]]\n",
    "        soln = [3.00, -1.50]\n",
    "        \"\"\"\n",
    "        return A, b\n",
    "    random.seed(seed)\n",
    "    A = [[random.random() for i in range(c)] for j in range(r)]\n",
    "    b = [random.random() for i in range(r)]\n",
    "    return A, b"
   ]
  },
  {
   "cell_type": "code",
   "execution_count": 3,
   "metadata": {
    "executionInfo": {
     "elapsed": 958,
     "status": "ok",
     "timestamp": 1604314265986,
     "user": {
      "displayName": "viswanath iiitb",
      "photoUrl": "",
      "userId": "05385138413223991502"
     },
     "user_tz": -330
    },
    "id": "mjpZ-QW8Kifr"
   },
   "outputs": [],
   "source": [
    "def leastSquare(A, b):\n",
    "    \"\"\"\n",
    "    solve the least squares problem using QR decomposition followed by back-substitution\n",
    "    Here, A is the matrix and b is the column vector\n",
    "    \"\"\"\n",
    "    ### YOUR CODE HERE \n",
    "    ##complete the following block of code\n",
    "    #perform QR decomposition and obtain the \"Q\" and \"R\" matrices\n",
    "    ### YOUR CODE HERE \n",
    "    def dotProduct(v1,v2,n):\n",
    "        s=0\n",
    "        for i in range(n):\n",
    "            s += (v1[i]*v2[i])\n",
    "        return s\n",
    "\n",
    "\n",
    "    def scalarProduct(v,a,n):\n",
    "        vf=[]\n",
    "        for i in range(n):\n",
    "            x = v[i]*a\n",
    "            vf.append(x)\n",
    "        return(vf)\n",
    "    def length(v,n):\n",
    "        sqSum = 0\n",
    "        for i in range(n):\n",
    "            sqSum = sqSum + (v[i]*v[i])\n",
    "        return (sqSum ** 0.5)\n",
    "\n",
    "    def projectOn(v1,v2,n):\n",
    "        vx=dotProduct(v1,v2,n)\n",
    "        l=dotProduct(v1,v1,n)\n",
    "        m=vx/l\n",
    "        vf=[]\n",
    "        for i in range(n):\n",
    "            x=v1[i]*m*(-1)\n",
    "            vf.append(x)\n",
    "        return vf\n",
    "\n",
    "    def vectorForm(a,c):\n",
    "        v=[]\n",
    "        for i in range(len(a)):\n",
    "            x=a[i][c]\n",
    "            v.append(x)\n",
    "        return(v)\n",
    "\n",
    "\n",
    "    def vectorOp(v1,v2,n):\n",
    "        vf=[]\n",
    "        for i in range(n):\n",
    "            x=v1[i]+v2[i]\n",
    "            vf.append(x)\n",
    "        return vf\n",
    "\n",
    "    def transpose(v,m,n):\n",
    "        a=[0]*m\n",
    "        for i in range(m):\n",
    "            a[i]=[0]*n\n",
    "            for j in range(n):\n",
    "                a[i][j]=v[j][i]\n",
    "        return a\n",
    "\n",
    "    def matrixmult(A, B):\n",
    "    \n",
    "        if len(A[0]) != len(B):\n",
    "            print(\"Invalid dimensions.\")\n",
    "            return\n",
    "        C = [[0 for i in range(len(B[0]))] for j in range(len(A))]\n",
    "\n",
    "        for i in range(len(A)):\n",
    "            for j in range(len(B[0])):\n",
    "                for k in range(len(A[0])):\n",
    "                    C[i][j] += A[i][k] * B[k][j]\n",
    "        return C\n",
    "\n",
    "    m=len(A)\n",
    "    n=len(A[0])\n",
    "    Qt=[]\n",
    "    xx=vectorForm(A,0)\n",
    "    dpx=dotProduct(xx,xx,m)\n",
    "    lx=length(xx,m)\n",
    "    y=scalarProduct(xx,(1/lx),m)\n",
    "    Qt.append(y)\n",
    "    \n",
    "    for i in range(1,n):\n",
    "        x=vectorForm(A,i)\n",
    "        temp=x\n",
    "        for i in range(len(Qt)):\n",
    "            e=projectOn(Qt[i],x,m)\n",
    "            temp=vectorOp(temp,e,m)\n",
    "        l=length(temp,m)\n",
    "        vf=scalarProduct(temp, 1/l, m)\n",
    "        Qt.append(vf) \n",
    "    \n",
    "    Q=transpose(Qt,m,n)\n",
    "    R = matrixmult(Qt, A)\n",
    "    yield Q, R    \n",
    "    \n",
    "    ##complete the following block of code\n",
    "    #perform back-substitution and obtain the least square solution, \"soln\" \n",
    "    \n",
    "    temp = [0. for j in range(n)]\n",
    "    k = 0\n",
    "    for record in Qt:\n",
    "        j = 0\n",
    "        totalSum = 0\n",
    "        for i in record:\n",
    "            totalSum += (i * b[j])\n",
    "            j += 1        \n",
    "        temp[k] = totalSum\n",
    "        k += 1\n",
    "        \n",
    "    soln = [0. for j in range(n)]\n",
    "    # doing back substitution & finding our solution\n",
    "    k = n - 1\n",
    "    for record in reversed(R):\n",
    "        totalSum = temp[k]\n",
    "        for j in range(k+1, len(record)):\n",
    "            totalSum -= (record[j] * soln[j])\n",
    "            \n",
    "        totalSum /= record[k]\n",
    "        soln[k] = totalSum\n",
    "        k -= 1\n",
    "    yield soln\n",
    "    "
   ]
  },
  {
   "cell_type": "code",
   "execution_count": 4,
   "metadata": {
    "executionInfo": {
     "elapsed": 1874,
     "status": "ok",
     "timestamp": 1604314269728,
     "user": {
      "displayName": "viswanath iiitb",
      "photoUrl": "",
      "userId": "05385138413223991502"
     },
     "user_tz": -330
    },
    "id": "171T8bbGKifv"
   },
   "outputs": [],
   "source": [
    "def main():\n",
    "    seed = 42\n",
    "    ## use sample = 1 to use the sample test-case\n",
    "    A, b, = generate_dataset(3, 2, seed, sample=0)\n",
    "\n",
    "    iterator =  leastSquare(A, b)\n",
    "    \n",
    "    Q, R = next(iterator)\n",
    "    print(\"Q \\n {}\".format(Q))\n",
    "    print(\"R \\n {}\".format(R))\n",
    "\n",
    "    soln = next(iterator)\n",
    "    print(\"Solution \\n {}\".format(soln))"
   ]
  },
  {
   "cell_type": "code",
   "execution_count": 5,
   "metadata": {
    "colab": {
     "base_uri": "https://localhost:8080/",
     "height": 303
    },
    "executionInfo": {
     "elapsed": 1100,
     "status": "error",
     "timestamp": 1604314272946,
     "user": {
      "displayName": "viswanath iiitb",
      "photoUrl": "",
      "userId": "05385138413223991502"
     },
     "user_tz": -330
    },
    "id": "hHn1hUCcKifx",
    "outputId": "93ad584f-a4b3-4047-a3cf-737e24c44b44"
   },
   "outputs": [
    {
     "name": "stdout",
     "output_type": "stream",
     "text": [
      "Q \n",
      " [[0.6309969542971977, -0.7741874703998285], [0.27140348614084414, 0.16020067612520553], [0.7267619908733924, 0.6123475353465072]]\n",
      "R \n",
      " [[1.013359563946034, 0.5681613495503164], [0.0, 0.43077076114488627]]\n",
      "Solution \n",
      " [1.4260202529741817, -0.9713375053353168]\n"
     ]
    }
   ],
   "source": [
    "main()"
   ]
  }
 ],
 "metadata": {
  "colab": {
   "name": "Student.ipynb",
   "provenance": []
  },
  "kernelspec": {
   "display_name": "Python 3",
   "language": "python",
   "name": "python3"
  },
  "language_info": {
   "codemirror_mode": {
    "name": "ipython",
    "version": 3
   },
   "file_extension": ".py",
   "mimetype": "text/x-python",
   "name": "python",
   "nbconvert_exporter": "python",
   "pygments_lexer": "ipython3",
   "version": "3.6.11"
  }
 },
 "nbformat": 4,
 "nbformat_minor": 1
}
